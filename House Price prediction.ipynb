{
 "cells": [
  {
   "cell_type": "markdown",
   "metadata": {},
   "source": [
    "House Price prediction"
   ]
  },
  {
   "cell_type": "code",
   "execution_count": null,
   "metadata": {},
   "outputs": [
    {
     "name": "stdout",
     "output_type": "stream",
     "text": [
      "                  date      price  bedrooms  bathrooms  sqft_living  sqft_lot  \\\n",
      "0  2014-05-02 00:00:00   313000.0       3.0       1.50         1340      7912   \n",
      "1  2014-05-02 00:00:00  2384000.0       5.0       2.50         3650      9050   \n",
      "2  2014-05-02 00:00:00   342000.0       3.0       2.00         1930     11947   \n",
      "3  2014-05-02 00:00:00   420000.0       3.0       2.25         2000      8030   \n",
      "4  2014-05-02 00:00:00   550000.0       4.0       2.50         1940     10500   \n",
      "\n",
      "   floors  waterfront  view  condition  sqft_above  sqft_basement  yr_built  \\\n",
      "0     1.5           0     0          3        1340              0      1955   \n",
      "1     2.0           0     4          5        3370            280      1921   \n",
      "2     1.0           0     0          4        1930              0      1966   \n",
      "3     1.0           0     0          4        1000           1000      1963   \n",
      "4     1.0           0     0          4        1140            800      1976   \n",
      "\n",
      "   yr_renovated                    street       city  statezip country  \n",
      "0          2005      18810 Densmore Ave N  Shoreline  WA 98133     USA  \n",
      "1             0           709 W Blaine St    Seattle  WA 98119     USA  \n",
      "2             0  26206-26214 143rd Ave SE       Kent  WA 98042     USA  \n",
      "3             0           857 170th Pl NE   Bellevue  WA 98008     USA  \n",
      "4          1992         9105 170th Ave NE    Redmond  WA 98052     USA  \n"
     ]
    }
   ],
   "source": [
    "import pandas as pd\n",
    "import numpy as np\n",
    "from sklearn.linear_model import LinearRegression\n",
    "from sklearn.model_selection import train_test_split\n",
    "from sklearn.preprocessing import OneHotEncoder, StandardScaler\n",
    "from sklearn.compose import ColumnTransformer\n",
    "from sklearn.pipeline import Pipeline\n",
    "import joblib \n",
    "\n",
    "# Lets load the dataset\n",
    "df = pd.read_csv(r'C:\\Users\\hp\\Desktop\\Locked\\02. Data Science\\07. Data Science Projects\\ML Projects\\Linear Regression Hausing Price 1\\dataset\\data.csv')  # Replace with your file path\n",
    "print(df.head())"
   ]
  },
  {
   "cell_type": "code",
   "execution_count": 2,
   "metadata": {},
   "outputs": [],
   "source": [
    "df = df.drop(columns=['date', 'sqft_lot', 'yr_built', 'waterfront', 'view', 'condition', 'statezip', 'country', 'yr_renovated', 'street'])"
   ]
  },
  {
   "cell_type": "code",
   "execution_count": 3,
   "metadata": {},
   "outputs": [
    {
     "data": {
      "text/html": [
       "<div>\n",
       "<style scoped>\n",
       "    .dataframe tbody tr th:only-of-type {\n",
       "        vertical-align: middle;\n",
       "    }\n",
       "\n",
       "    .dataframe tbody tr th {\n",
       "        vertical-align: top;\n",
       "    }\n",
       "\n",
       "    .dataframe thead th {\n",
       "        text-align: right;\n",
       "    }\n",
       "</style>\n",
       "<table border=\"1\" class=\"dataframe\">\n",
       "  <thead>\n",
       "    <tr style=\"text-align: right;\">\n",
       "      <th></th>\n",
       "      <th>price</th>\n",
       "      <th>bedrooms</th>\n",
       "      <th>bathrooms</th>\n",
       "      <th>sqft_living</th>\n",
       "      <th>floors</th>\n",
       "      <th>sqft_above</th>\n",
       "      <th>sqft_basement</th>\n",
       "      <th>city</th>\n",
       "    </tr>\n",
       "  </thead>\n",
       "  <tbody>\n",
       "    <tr>\n",
       "      <th>0</th>\n",
       "      <td>313000.0</td>\n",
       "      <td>3.0</td>\n",
       "      <td>1.50</td>\n",
       "      <td>1340</td>\n",
       "      <td>1.5</td>\n",
       "      <td>1340</td>\n",
       "      <td>0</td>\n",
       "      <td>Shoreline</td>\n",
       "    </tr>\n",
       "    <tr>\n",
       "      <th>1</th>\n",
       "      <td>2384000.0</td>\n",
       "      <td>5.0</td>\n",
       "      <td>2.50</td>\n",
       "      <td>3650</td>\n",
       "      <td>2.0</td>\n",
       "      <td>3370</td>\n",
       "      <td>280</td>\n",
       "      <td>Seattle</td>\n",
       "    </tr>\n",
       "    <tr>\n",
       "      <th>2</th>\n",
       "      <td>342000.0</td>\n",
       "      <td>3.0</td>\n",
       "      <td>2.00</td>\n",
       "      <td>1930</td>\n",
       "      <td>1.0</td>\n",
       "      <td>1930</td>\n",
       "      <td>0</td>\n",
       "      <td>Kent</td>\n",
       "    </tr>\n",
       "    <tr>\n",
       "      <th>3</th>\n",
       "      <td>420000.0</td>\n",
       "      <td>3.0</td>\n",
       "      <td>2.25</td>\n",
       "      <td>2000</td>\n",
       "      <td>1.0</td>\n",
       "      <td>1000</td>\n",
       "      <td>1000</td>\n",
       "      <td>Bellevue</td>\n",
       "    </tr>\n",
       "    <tr>\n",
       "      <th>4</th>\n",
       "      <td>550000.0</td>\n",
       "      <td>4.0</td>\n",
       "      <td>2.50</td>\n",
       "      <td>1940</td>\n",
       "      <td>1.0</td>\n",
       "      <td>1140</td>\n",
       "      <td>800</td>\n",
       "      <td>Redmond</td>\n",
       "    </tr>\n",
       "  </tbody>\n",
       "</table>\n",
       "</div>"
      ],
      "text/plain": [
       "       price  bedrooms  bathrooms  sqft_living  floors  sqft_above  \\\n",
       "0   313000.0       3.0       1.50         1340     1.5        1340   \n",
       "1  2384000.0       5.0       2.50         3650     2.0        3370   \n",
       "2   342000.0       3.0       2.00         1930     1.0        1930   \n",
       "3   420000.0       3.0       2.25         2000     1.0        1000   \n",
       "4   550000.0       4.0       2.50         1940     1.0        1140   \n",
       "\n",
       "   sqft_basement       city  \n",
       "0              0  Shoreline  \n",
       "1            280    Seattle  \n",
       "2              0       Kent  \n",
       "3           1000   Bellevue  \n",
       "4            800    Redmond  "
      ]
     },
     "execution_count": 3,
     "metadata": {},
     "output_type": "execute_result"
    }
   ],
   "source": [
    "df.head()"
   ]
  },
  {
   "cell_type": "markdown",
   "metadata": {},
   "source": [
    "Data Preprocessing"
   ]
  },
  {
   "cell_type": "code",
   "execution_count": 4,
   "metadata": {},
   "outputs": [],
   "source": [
    "# Separate features and target\n",
    "X = df.drop('price', axis=1)\n",
    "y = df['price']\n",
    "\n",
    "# We can Define categorical and numerical features\n",
    "categorical_features = ['city']\n",
    "numerical_features = ['bedrooms', 'bathrooms', 'sqft_living', 'sqft_above', 'sqft_basement', 'floors']\n",
    "\n",
    "# Lets Create preprocessing pipeline\n",
    "preprocessor = ColumnTransformer(\n",
    "    transformers=[\n",
    "        ('num', StandardScaler(), numerical_features),\n",
    "        ('cat', OneHotEncoder(handle_unknown='ignore'), categorical_features)\n",
    "    ])\n",
    "\n",
    "# Now i split data\n",
    "X_train, X_test, y_train, y_test = train_test_split(X, y, test_size=0.2, random_state=42)"
   ]
  },
  {
   "cell_type": "code",
   "execution_count": 5,
   "metadata": {},
   "outputs": [
    {
     "name": "stdout",
     "output_type": "stream",
     "text": [
      "Training R²: 0.623\n",
      "Testing R²: 0.039\n"
     ]
    }
   ],
   "source": [
    "# We now create pipeline with preprocessing and model\n",
    "model = Pipeline([\n",
    "    ('preprocessor', preprocessor),\n",
    "    ('regressor', LinearRegression())\n",
    "])\n",
    "\n",
    "#Let Train the model\n",
    "model.fit(X_train, y_train)\n",
    "\n",
    "#And Evaluate\n",
    "train_score = model.score(X_train, y_train)\n",
    "test_score = model.score(X_test, y_test)\n",
    "print(f\"Training R²: {train_score:.3f}\")\n",
    "print(f\"Testing R²: {test_score:.3f}\")"
   ]
  },
  {
   "cell_type": "code",
   "execution_count": 6,
   "metadata": {},
   "outputs": [],
   "source": [
    "# Now lets Save the entire pipeline (including preprocessing)\n",
    "joblib.dump(model, 'house_price_predictor.pkl')\n",
    "\n",
    "#i start with saving just the model coefficients for inspection:\n",
    "coefficients = pd.DataFrame({\n",
    "    'feature': numerical_features + \n",
    "               list(model.named_steps['preprocessor']\n",
    "                   .named_transformers_['cat']\n",
    "                   .get_feature_names_out(categorical_features)),\n",
    "    'coefficient': model.named_steps['regressor'].coef_\n",
    "})\n",
    "coefficients.to_csv('model_coefficients.csv', index=False)"
   ]
  },
  {
   "cell_type": "code",
   "execution_count": 7,
   "metadata": {},
   "outputs": [],
   "source": [
    "#Now if i am to use the model later\n",
    "import joblib\n",
    "import pandas as pd"
   ]
  },
  {
   "cell_type": "code",
   "execution_count": 8,
   "metadata": {},
   "outputs": [],
   "source": [
    "# we Load the saved model First\n",
    "model = joblib.load('house_price_predictor.pkl')"
   ]
  },
  {
   "cell_type": "code",
   "execution_count": 9,
   "metadata": {},
   "outputs": [],
   "source": [
    "def predict_price(input_data):\n",
    "    \"\"\"Predict house price from input dictionary\"\"\"\n",
    "    # Convert to DataFrame\n",
    "    input_df = pd.DataFrame([input_data])\n",
    "    \n",
    "    # Make prediction\n",
    "    price = model.predict(input_df)[0]\n",
    "    return price"
   ]
  },
  {
   "cell_type": "code",
   "execution_count": 10,
   "metadata": {},
   "outputs": [
    {
     "name": "stdout",
     "output_type": "stream",
     "text": [
      "Predicted Price: $201,925.95\n"
     ]
    }
   ],
   "source": [
    "# Lets try\n",
    "if __name__ == \"__main__\":\n",
    "    # lets try some inputs\n",
    "    new_house = {\n",
    "        'bedrooms': 3,\n",
    "        'bathrooms': 2,\n",
    "        'sqft_living': 1500,\n",
    "        'sqft_basement': 500,\n",
    "        'sqft_above': 1,  # 1 for yes, 0 for no\n",
    "        'city': 'New York',\n",
    "        'floors' : 2\n",
    "    }\n",
    "    \n",
    "    predicted_price = predict_price(new_house)\n",
    "    print(f\"Predicted Price: ${predicted_price:,.2f}\")"
   ]
  },
  {
   "cell_type": "code",
   "execution_count": 11,
   "metadata": {},
   "outputs": [
    {
     "name": "stdout",
     "output_type": "stream",
     "text": [
      "Predicted Price: $232,860.97\n"
     ]
    }
   ],
   "source": [
    "# Lets try again\n",
    "if __name__ == \"__main__\":\n",
    "    # lets try some inputs\n",
    "    new_house = {\n",
    "        'bedrooms': 3,\n",
    "        'bathrooms': 1.5,\n",
    "        'sqft_living': 1500,\n",
    "        'sqft_basement': 800,\n",
    "        'sqft_above': 1,  # 1 for yes, 0 for no\n",
    "        'city': 'New York',\n",
    "        'floors' : 2\n",
    "    }\n",
    "    \n",
    "    predicted_price = predict_price(new_house)\n",
    "    print(f\"Predicted Price: ${predicted_price:,.2f}\")"
   ]
  },
  {
   "cell_type": "code",
   "execution_count": 19,
   "metadata": {},
   "outputs": [
    {
     "name": "stdout",
     "output_type": "stream",
     "text": [
      "Price: $ 147,263.01\n"
     ]
    }
   ],
   "source": [
    "#now creating a way that the model will prompt to the user to input requied details to get predicted price\n",
    "while input(\"Predict (y/n)\") == 'y':\n",
    "    print (f\"Price: $ {model.predict(pd.DataFrame([{'bedrooms' : int(input('Bedrooms: ')),\n",
    "                                                     'bathrooms' : float(input('Bathrooms: ')), \n",
    "                                                     'sqft_living' : float(input('Sqft_living: ')), \n",
    "                                                     'sqft_basement' : float(input('Sqft_basement: ')), \n",
    "                                                     'sqft_above' : float(input('sqft_above: ')), \n",
    "                                                     'city' : str(input('City: ')), \n",
    "                                                     'floors' : str(input('Floors: '))}]))[0]:,.2f}\")"
   ]
  }
 ],
 "metadata": {
  "kernelspec": {
   "display_name": "base",
   "language": "python",
   "name": "python3"
  },
  "language_info": {
   "codemirror_mode": {
    "name": "ipython",
    "version": 3
   },
   "file_extension": ".py",
   "mimetype": "text/x-python",
   "name": "python",
   "nbconvert_exporter": "python",
   "pygments_lexer": "ipython3",
   "version": "3.12.7"
  }
 },
 "nbformat": 4,
 "nbformat_minor": 2
}
